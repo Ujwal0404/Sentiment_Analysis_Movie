{
 "cells": [
  {
   "cell_type": "code",
   "execution_count": 2,
   "metadata": {},
   "outputs": [
    {
     "name": "stdout",
     "output_type": "stream",
     "text": [
      "All done\n"
     ]
    }
   ],
   "source": [
    "import re\n",
    "fileName=\"Movie_review.csv\"\n",
    "fileout=open(\"Output.csv\",\"w\")\n",
    "with open(fileName,'r') as myfile:\n",
    "    data=myfile.read().lower() # read the file and convert all text to lowercase\n",
    "    clean_data=' '.join(re.sub(\"(@[A-Za-z0-9]+)|([^0-9A-Za-z \\t])|(\\w+:\\/\\/\\S+)\",\" \",data).split()) # regular expression to strip the html out of the text\n",
    "fileout.write(clean_data + '\\n') # write the cleaned data to a file\n",
    "fileout.close()\n",
    "myfile.close()\n",
    "print (\"All done\")"
   ]
  },
  {
   "cell_type": "code",
   "execution_count": 2,
   "metadata": {
    "collapsed": true
   },
   "outputs": [],
   "source": [
    "import csv\n",
    "import re\n",
    "\n",
    "exp = r\"(@[A-Za-z0-9]+)|([^0-9A-Za-z \\t])|(\\w+:\\/\\/\\S+)\"\n",
    "\n",
    "def cleaner(row):\n",
    "   return [re.sub(exp,\" \", item.lower()) for item in row]\n",
    "\n",
    "with open('Movie_review.csv', 'r') as i, open('output.csv', 'w',newline=\"\") as o:\n",
    "    reader = csv.reader(i, delimiter=',')  # Comma is the default\n",
    "    writer = csv.writer(o, delimiter=',')\n",
    "\n",
    "    # Take the first row from the input file (the header)\n",
    "    # and write it to the output file\n",
    "\n",
    "    writer.writerow(next(reader))\n",
    "    for row in reader:\n",
    "        writer.writerow(cleaner(row))"
   ]
  },
  {
   "cell_type": "code",
   "execution_count": 7,
   "metadata": {},
   "outputs": [
    {
     "name": "stdout",
     "output_type": "stream",
     "text": [
      "All done\n"
     ]
    }
   ],
   "source": [
    "import re\n",
    "fileName=\"Movie_review.csv\"\n",
    "fileout=open(\"Output.csv\",\"w\")\n",
    "with open(fileName,'r') as myfile:\n",
    "    for line in myfile:\n",
    "        line = line.lower()\n",
    "        line = re.sub(\"(@[A-Za-z0-9]+)|([^0-9A-Za-z \\t])|(\\w+:\\/\\/\\S+)\",\" \",line)\n",
    "        fileout.write(line + '\\n')\n",
    "fileout.close()\n",
    "myfile.close()\n",
    "print (\"All done\")"
   ]
  },
  {
   "cell_type": "code",
   "execution_count": null,
   "metadata": {
    "collapsed": true
   },
   "outputs": [],
   "source": []
  }
 ],
 "metadata": {
  "kernelspec": {
   "display_name": "Python 3",
   "language": "python",
   "name": "python3"
  },
  "language_info": {
   "codemirror_mode": {
    "name": "ipython",
    "version": 3
   },
   "file_extension": ".py",
   "mimetype": "text/x-python",
   "name": "python",
   "nbconvert_exporter": "python",
   "pygments_lexer": "ipython3",
   "version": "3.6.3"
  }
 },
 "nbformat": 4,
 "nbformat_minor": 2
}
